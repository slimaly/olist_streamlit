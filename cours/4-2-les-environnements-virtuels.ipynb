{
 "cells": [
  {
   "cell_type": "markdown",
   "metadata": {},
   "source": [
    "# Les environnements virtuels"
   ]
  },
  {
   "cell_type": "markdown",
   "metadata": {},
   "source": [
    "Un environnement virtuel est un dossier qui regroupe une certaine version de python et ainsi que certains packages et leurs versions propres à un projet. Le projet sera exécuté au sein de cet environnement.\n",
    "Cela permet:\n",
    "- de garder un environnement léger: savoir quel package il faut installer quand on clone un nouveau projet et non tous les packages de l'ordinateur de la personne qui a créé le projet\n",
    "- connaître la version des packages et des dépendances où le projet fonctionne (des mises à jour peuvent rendre un projet inutilisable)"
   ]
  },
  {
   "cell_type": "markdown",
   "metadata": {},
   "source": [
    "Il existe de nombreux outils de gestion d'environnement virtuel:\n",
    "- venv: inclus dans python\n",
    "- virtualenv: le plus ancien, permet de gérer des versions de python 2\n",
    "- conda: qui vient avec anaconda et mini-conda\n",
    "- Pipenv: la solution en vue, qui regroupe pip et virtualenv"
   ]
  },
  {
   "cell_type": "markdown",
   "metadata": {},
   "source": [
    "## Les commandes importantes en fonction du gestionnaire choisi:"
   ]
  },
  {
   "cell_type": "markdown",
   "metadata": {},
   "source": [
    "### Les commandes de venv"
   ]
  },
  {
   "cell_type": "markdown",
   "metadata": {},
   "source": [
    "Les commandes qu'il faut connaitre (à taper dans le terminal):\n",
    "- **`python -m venv env`** : crée un environnement appelé env\n",
    "- **`venv env/bin/activate`** (Unix) ou **`..\\env\\Scripts\\activate`** (WIndows): active l'environnement virtuel: à partir de maintenant quand on lance un fichier depuis le terminal ou qu'on installe un package avec pip, ce sera dans cet environnement\n",
    "- **`deactivate`** : désactive l'environnement\n",
    "- **`rm -rf env`** : supprimer l'environnement virtuel\n",
    "- **`pip freeze > requirements.txt`** : crée un fichier requirements.txt avec tous les packages du projet et leur version\n",
    "- **`pip install -r requirements.txt`** : installe tous les packages du fichier requirement"
   ]
  },
  {
   "cell_type": "markdown",
   "metadata": {},
   "source": [
    "### Les commandes de conda"
   ]
  },
  {
   "cell_type": "markdown",
   "metadata": {},
   "source": [
    "- **`conda create -n myenv python=3.9 scipy=0.17.3 astroid babel`** :\tCréer un env virtuel\n",
    "- **`conda activate myenv`** :\tactiver un envirionnement virtuel\n",
    "- **`conda deactivate`** :\tdesactiver un environement virtuel\n",
    "- **`conda info --envs`** :\tlister nos env\n",
    "- **`conda list --explicit > requirements.txt`** :\tcréer le fichier de dépendances\n",
    "- **`conda create --name myenv --file requirements.txt`** :\tcréer un env virtuel à partir d'un spec-file\n",
    "- **`conda install --name myenv --file requirements.txt`** :\tinstaller les packages d'un spec file"
   ]
  },
  {
   "cell_type": "markdown",
   "metadata": {},
   "source": [
    "Article médium sur l'équivalent en [Pipenv](https://medium.com/analytics-vidhya/why-pipenv-over-venv-for-python-projects-a51fb6e4f31e) et l'intérêt d'utiliser ce package"
   ]
  },
  {
   "cell_type": "code",
   "execution_count": 2,
   "metadata": {},
   "outputs": [
    {
     "name": "stdout",
     "output_type": "stream",
     "text": [
      "Collecting fastapi[all]\n",
      "  Obtaining dependency information for fastapi[all] from https://files.pythonhosted.org/packages/e5/80/ddbf524c6169072ab5e8dd4e106d4eb482bf920da1996dde9f308f90aa8c/fastapi-0.109.0-py3-none-any.whl.metadata\n",
      "  Using cached fastapi-0.109.0-py3-none-any.whl.metadata (24 kB)\n",
      "Collecting pydantic!=1.8,!=1.8.1,!=2.0.0,!=2.0.1,!=2.1.0,<3.0.0,>=1.7.4 (from fastapi[all])\n",
      "  Obtaining dependency information for pydantic!=1.8,!=1.8.1,!=2.0.0,!=2.0.1,!=2.1.0,<3.0.0,>=1.7.4 from https://files.pythonhosted.org/packages/e4/37/3ffe6e7daa1ea1b4bf5228807a92ccbae538cf57c0c50b93564c310c11a8/pydantic-2.6.0-py3-none-any.whl.metadata\n",
      "  Using cached pydantic-2.6.0-py3-none-any.whl.metadata (81 kB)\n",
      "Collecting starlette<0.36.0,>=0.35.0 (from fastapi[all])\n",
      "  Obtaining dependency information for starlette<0.36.0,>=0.35.0 from https://files.pythonhosted.org/packages/03/13/c60c738da2fb69d60ee1dc5631e8d152352003cc0bc4ce39582bdd90e293/starlette-0.35.1-py3-none-any.whl.metadata\n",
      "  Using cached starlette-0.35.1-py3-none-any.whl.metadata (5.8 kB)\n",
      "Requirement already satisfied: typing-extensions>=4.8.0 in c:\\users\\utilisateur\\documents\\data_analys\\env\\lib\\site-packages (from fastapi[all]) (4.9.0)\n",
      "Collecting email-validator>=2.0.0 (from fastapi[all])\n",
      "  Obtaining dependency information for email-validator>=2.0.0 from https://files.pythonhosted.org/packages/09/68/d237a603d524ba052e292d71c89939bfa70e3ec7963b255cc3ef7a8770a0/email_validator-2.1.0.post1-py3-none-any.whl.metadata\n",
      "  Using cached email_validator-2.1.0.post1-py3-none-any.whl.metadata (25 kB)\n",
      "Collecting httpx>=0.23.0 (from fastapi[all])\n",
      "  Obtaining dependency information for httpx>=0.23.0 from https://files.pythonhosted.org/packages/39/9b/4937d841aee9c2c8102d9a4eeb800c7dad25386caabb4a1bf5010df81a57/httpx-0.26.0-py3-none-any.whl.metadata\n",
      "  Using cached httpx-0.26.0-py3-none-any.whl.metadata (7.6 kB)\n",
      "Collecting itsdangerous>=1.1.0 (from fastapi[all])\n",
      "  Using cached itsdangerous-2.1.2-py3-none-any.whl (15 kB)\n",
      "Requirement already satisfied: jinja2>=2.11.2 in c:\\users\\utilisateur\\documents\\data_analys\\env\\lib\\site-packages (from fastapi[all]) (3.1.3)\n",
      "Collecting orjson>=3.2.1 (from fastapi[all])\n",
      "  Obtaining dependency information for orjson>=3.2.1 from https://files.pythonhosted.org/packages/71/f5/87f3728d3aff8d76e7343f9cce0ac2958bb43e1dd7222a32d9c50981d508/orjson-3.9.12-cp312-none-win_amd64.whl.metadata\n",
      "  Using cached orjson-3.9.12-cp312-none-win_amd64.whl.metadata (50 kB)\n",
      "Collecting pydantic-extra-types>=2.0.0 (from fastapi[all])\n",
      "  Obtaining dependency information for pydantic-extra-types>=2.0.0 from https://files.pythonhosted.org/packages/d2/1e/8c9021519140f813a6b4d78cd4257b3290c559859bf96a858936acc2e78a/pydantic_extra_types-2.5.0-py3-none-any.whl.metadata\n",
      "  Using cached pydantic_extra_types-2.5.0-py3-none-any.whl.metadata (2.6 kB)\n",
      "Collecting pydantic-settings>=2.0.0 (from fastapi[all])\n",
      "  Obtaining dependency information for pydantic-settings>=2.0.0 from https://files.pythonhosted.org/packages/5d/c9/8042368e9a1e6e229b5ec5d88449441a3ee8f8afe09988faeb190af30248/pydantic_settings-2.1.0-py3-none-any.whl.metadata\n",
      "  Using cached pydantic_settings-2.1.0-py3-none-any.whl.metadata (2.9 kB)\n",
      "Collecting python-multipart>=0.0.5 (from fastapi[all])\n",
      "  Using cached python_multipart-0.0.6-py3-none-any.whl (45 kB)\n",
      "Collecting pyyaml>=5.3.1 (from fastapi[all])\n",
      "  Obtaining dependency information for pyyaml>=5.3.1 from https://files.pythonhosted.org/packages/2b/9f/fbade56564ad486809c27b322d0f7e6a89c01f6b4fe208402e90d4443a99/PyYAML-6.0.1-cp312-cp312-win_amd64.whl.metadata\n",
      "  Using cached PyYAML-6.0.1-cp312-cp312-win_amd64.whl.metadata (2.1 kB)\n",
      "Collecting ujson!=4.0.2,!=4.1.0,!=4.2.0,!=4.3.0,!=5.0.0,!=5.1.0,>=4.0.1 (from fastapi[all])\n",
      "  Obtaining dependency information for ujson!=4.0.2,!=4.1.0,!=4.2.0,!=4.3.0,!=5.0.0,!=5.1.0,>=4.0.1 from https://files.pythonhosted.org/packages/30/b7/18b841b44760ed298acdb150608dccdc045c41655e0bae4441f29bcab872/ujson-5.9.0-cp312-cp312-win_amd64.whl.metadata\n",
      "  Using cached ujson-5.9.0-cp312-cp312-win_amd64.whl.metadata (8.9 kB)\n",
      "Collecting uvicorn[standard]>=0.12.0 (from fastapi[all])\n",
      "  Obtaining dependency information for uvicorn[standard]>=0.12.0 from https://files.pythonhosted.org/packages/c7/f3/29caa83f5795b20ed3aca357c648f3ae995ff6ff08e38b22387017abbdc5/uvicorn-0.27.0.post1-py3-none-any.whl.metadata\n",
      "  Using cached uvicorn-0.27.0.post1-py3-none-any.whl.metadata (6.4 kB)\n",
      "Collecting dnspython>=2.0.0 (from email-validator>=2.0.0->fastapi[all])\n",
      "  Obtaining dependency information for dnspython>=2.0.0 from https://files.pythonhosted.org/packages/b6/83/4a684a63d395007670bc95c1947c07045fe66141574e2f7e9e347df8499a/dnspython-2.5.0-py3-none-any.whl.metadata\n",
      "  Using cached dnspython-2.5.0-py3-none-any.whl.metadata (5.8 kB)\n",
      "Requirement already satisfied: idna>=2.0.0 in c:\\users\\utilisateur\\documents\\data_analys\\env\\lib\\site-packages (from email-validator>=2.0.0->fastapi[all]) (3.6)\n",
      "Collecting anyio (from httpx>=0.23.0->fastapi[all])\n",
      "  Obtaining dependency information for anyio from https://files.pythonhosted.org/packages/bf/cd/d6d9bb1dadf73e7af02d18225cbd2c93f8552e13130484f1c8dcfece292b/anyio-4.2.0-py3-none-any.whl.metadata\n",
      "  Using cached anyio-4.2.0-py3-none-any.whl.metadata (4.6 kB)\n",
      "Requirement already satisfied: certifi in c:\\users\\utilisateur\\documents\\data_analys\\env\\lib\\site-packages (from httpx>=0.23.0->fastapi[all]) (2023.11.17)\n",
      "Collecting httpcore==1.* (from httpx>=0.23.0->fastapi[all])\n",
      "  Obtaining dependency information for httpcore==1.* from https://files.pythonhosted.org/packages/56/ba/78b0a99c4da0ff8b0f59defa2f13ca4668189b134bd9840b6202a93d9a0f/httpcore-1.0.2-py3-none-any.whl.metadata\n",
      "  Using cached httpcore-1.0.2-py3-none-any.whl.metadata (20 kB)\n",
      "Collecting sniffio (from httpx>=0.23.0->fastapi[all])\n",
      "  Using cached sniffio-1.3.0-py3-none-any.whl (10 kB)\n",
      "Collecting h11<0.15,>=0.13 (from httpcore==1.*->httpx>=0.23.0->fastapi[all])\n",
      "  Using cached h11-0.14.0-py3-none-any.whl (58 kB)\n",
      "Requirement already satisfied: MarkupSafe>=2.0 in c:\\users\\utilisateur\\documents\\data_analys\\env\\lib\\site-packages (from jinja2>=2.11.2->fastapi[all]) (2.1.4)\n",
      "Collecting annotated-types>=0.4.0 (from pydantic!=1.8,!=1.8.1,!=2.0.0,!=2.0.1,!=2.1.0,<3.0.0,>=1.7.4->fastapi[all])\n",
      "  Obtaining dependency information for annotated-types>=0.4.0 from https://files.pythonhosted.org/packages/28/78/d31230046e58c207284c6b2c4e8d96e6d3cb4e52354721b944d3e1ee4aa5/annotated_types-0.6.0-py3-none-any.whl.metadata\n",
      "  Using cached annotated_types-0.6.0-py3-none-any.whl.metadata (12 kB)\n",
      "Collecting pydantic-core==2.16.1 (from pydantic!=1.8,!=1.8.1,!=2.0.0,!=2.0.1,!=2.1.0,<3.0.0,>=1.7.4->fastapi[all])\n",
      "  Obtaining dependency information for pydantic-core==2.16.1 from https://files.pythonhosted.org/packages/ab/de/32c35c9d84652da17673357295d19016cc4768fea0dd071d8c09ca4cacbb/pydantic_core-2.16.1-cp312-none-win_amd64.whl.metadata\n",
      "  Using cached pydantic_core-2.16.1-cp312-none-win_amd64.whl.metadata (6.6 kB)\n",
      "Collecting python-dotenv>=0.21.0 (from pydantic-settings>=2.0.0->fastapi[all])\n",
      "  Obtaining dependency information for python-dotenv>=0.21.0 from https://files.pythonhosted.org/packages/6a/3e/b68c118422ec867fa7ab88444e1274aa40681c606d59ac27de5a5588f082/python_dotenv-1.0.1-py3-none-any.whl.metadata\n",
      "  Using cached python_dotenv-1.0.1-py3-none-any.whl.metadata (23 kB)\n",
      "Requirement already satisfied: click>=7.0 in c:\\users\\utilisateur\\documents\\data_analys\\env\\lib\\site-packages (from uvicorn[standard]>=0.12.0->fastapi[all]) (8.1.7)\n",
      "Requirement already satisfied: colorama>=0.4 in c:\\users\\utilisateur\\documents\\data_analys\\env\\lib\\site-packages (from uvicorn[standard]>=0.12.0->fastapi[all]) (0.4.6)\n",
      "Collecting httptools>=0.5.0 (from uvicorn[standard]>=0.12.0->fastapi[all])\n",
      "  Obtaining dependency information for httptools>=0.5.0 from https://files.pythonhosted.org/packages/d3/97/60860e9ee87a7d4712b98f7e1411730520053b9d69e9e42b0b9751809c17/httptools-0.6.1-cp312-cp312-win_amd64.whl.metadata\n",
      "  Using cached httptools-0.6.1-cp312-cp312-win_amd64.whl.metadata (3.7 kB)\n",
      "Collecting watchfiles>=0.13 (from uvicorn[standard]>=0.12.0->fastapi[all])\n",
      "  Obtaining dependency information for watchfiles>=0.13 from https://files.pythonhosted.org/packages/da/f2/6b1de38aeb21eb9dac1ae6a1ee4521566e79690117032036c737cfab52fa/watchfiles-0.21.0-cp312-none-win_amd64.whl.metadata\n",
      "  Using cached watchfiles-0.21.0-cp312-none-win_amd64.whl.metadata (5.0 kB)\n",
      "Collecting websockets>=10.4 (from uvicorn[standard]>=0.12.0->fastapi[all])\n",
      "  Obtaining dependency information for websockets>=10.4 from https://files.pythonhosted.org/packages/20/52/8915f51f9aaef4e4361c89dd6cf69f72a0159f14e0d25026c81b6ad22525/websockets-12.0-cp312-cp312-win_amd64.whl.metadata\n",
      "  Using cached websockets-12.0-cp312-cp312-win_amd64.whl.metadata (6.8 kB)\n",
      "Using cached email_validator-2.1.0.post1-py3-none-any.whl (32 kB)\n",
      "Using cached httpx-0.26.0-py3-none-any.whl (75 kB)\n",
      "Using cached httpcore-1.0.2-py3-none-any.whl (76 kB)\n",
      "Using cached orjson-3.9.12-cp312-none-win_amd64.whl (134 kB)\n",
      "Using cached pydantic-2.6.0-py3-none-any.whl (394 kB)\n",
      "Using cached pydantic_core-2.16.1-cp312-none-win_amd64.whl (1.9 MB)\n",
      "Using cached pydantic_extra_types-2.5.0-py3-none-any.whl (21 kB)\n",
      "Using cached pydantic_settings-2.1.0-py3-none-any.whl (11 kB)\n",
      "Using cached PyYAML-6.0.1-cp312-cp312-win_amd64.whl (138 kB)\n",
      "Using cached starlette-0.35.1-py3-none-any.whl (71 kB)\n",
      "Using cached ujson-5.9.0-cp312-cp312-win_amd64.whl (42 kB)\n",
      "Using cached fastapi-0.109.0-py3-none-any.whl (92 kB)\n",
      "Using cached annotated_types-0.6.0-py3-none-any.whl (12 kB)\n",
      "Using cached anyio-4.2.0-py3-none-any.whl (85 kB)\n",
      "Using cached dnspython-2.5.0-py3-none-any.whl (305 kB)\n",
      "Using cached httptools-0.6.1-cp312-cp312-win_amd64.whl (55 kB)\n",
      "Using cached python_dotenv-1.0.1-py3-none-any.whl (19 kB)\n",
      "Using cached watchfiles-0.21.0-cp312-none-win_amd64.whl (280 kB)\n",
      "Using cached websockets-12.0-cp312-cp312-win_amd64.whl (124 kB)\n",
      "Using cached uvicorn-0.27.0.post1-py3-none-any.whl (60 kB)\n",
      "Installing collected packages: websockets, ujson, sniffio, pyyaml, python-multipart, python-dotenv, pydantic-core, orjson, itsdangerous, httptools, h11, dnspython, annotated-types, uvicorn, pydantic, httpcore, email-validator, anyio, watchfiles, starlette, pydantic-settings, pydantic-extra-types, httpx, fastapi\n",
      "Successfully installed annotated-types-0.6.0 anyio-4.2.0 dnspython-2.5.0 email-validator-2.1.0.post1 fastapi-0.109.0 h11-0.14.0 httpcore-1.0.2 httptools-0.6.1 httpx-0.26.0 itsdangerous-2.1.2 orjson-3.9.12 pydantic-2.6.0 pydantic-core-2.16.1 pydantic-extra-types-2.5.0 pydantic-settings-2.1.0 python-dotenv-1.0.1 python-multipart-0.0.6 pyyaml-6.0.1 sniffio-1.3.0 starlette-0.35.1 ujson-5.9.0 uvicorn-0.27.0.post1 watchfiles-0.21.0 websockets-12.0\n",
      "Note: you may need to restart the kernel to use updated packages.\n"
     ]
    },
    {
     "name": "stderr",
     "output_type": "stream",
     "text": [
      "\n",
      "[notice] A new release of pip is available: 23.2.1 -> 23.3.2\n",
      "[notice] To update, run: python.exe -m pip install --upgrade pip\n"
     ]
    }
   ],
   "source": [
    "%pip install \"fastapi[all]\""
   ]
  }
 ],
 "metadata": {
  "kernelspec": {
   "display_name": "Python 3.9.12 ('env': venv)",
   "language": "python",
   "name": "python3"
  },
  "language_info": {
   "codemirror_mode": {
    "name": "ipython",
    "version": 3
   },
   "file_extension": ".py",
   "mimetype": "text/x-python",
   "name": "python",
   "nbconvert_exporter": "python",
   "pygments_lexer": "ipython3",
   "version": "3.12.1"
  },
  "orig_nbformat": 4,
  "vscode": {
   "interpreter": {
    "hash": "0607a848ffd73ecc9cc21824b435c3b7f19a6ddc6b88730c443268397d59d817"
   }
  }
 },
 "nbformat": 4,
 "nbformat_minor": 2
}
