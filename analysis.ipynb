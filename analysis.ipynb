{
 "cells": [
  {
   "cell_type": "markdown",
   "metadata": {},
   "source": [
    "## Consignes:\n",
    "A partir du jeu de données Olist, vous allez faire une Analyse Exploratoire de Données.\n",
    "\n",
    "L'idée est de dégager des données univariées (histogrammes pour les valeurs numériques, barplot/pie chart pour les catégories) et bivariées (scatter plot, pairplot, corrélation) avec matlplotlib et seaborn. En bonus, vous pouvez ajouter des informations statistiques : moyenne, variance, écart-type. Vous pouvez regarder les distributions avec un box-plot et/ou un violin plot.\n",
    "\n",
    "Pour la partie Tableau de Bord, vous pouvez utiliser la librairie plotly pour faire des graphiques interactifs sur Streamlit\n",
    "\n",
    "En tant que en tant que data analyst, vous allez analyser des données pour générer un tableau de bord, recueil et extraction des données pertinentes et de qualité Traduction des données en données statistiques Traitement, exploitation et intégration des données Création de dashboards\n",
    "\n",
    "ressources: https://streamlit.io/ https://plotly.com/"
   ]
  },
  {
   "cell_type": "code",
   "execution_count": null,
   "metadata": {},
   "outputs": [],
   "source": []
  }
 ],
 "metadata": {
  "language_info": {
   "name": "python"
  }
 },
 "nbformat": 4,
 "nbformat_minor": 2
}
